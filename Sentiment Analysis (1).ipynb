{
 "cells": [
  {
   "cell_type": "code",
   "execution_count": 1,
   "metadata": {},
   "outputs": [
    {
     "name": "stderr",
     "output_type": "stream",
     "text": [
      "[nltk_data] Downloading package punkt to\n",
      "[nltk_data]     C:\\Users\\Hp\\AppData\\Roaming\\nltk_data...\n",
      "[nltk_data]   Package punkt is already up-to-date!\n",
      "[nltk_data] Downloading package stopwords to\n",
      "[nltk_data]     C:\\Users\\Hp\\AppData\\Roaming\\nltk_data...\n",
      "[nltk_data]   Package stopwords is already up-to-date!\n",
      "[nltk_data] Downloading package wordnet to\n",
      "[nltk_data]     C:\\Users\\Hp\\AppData\\Roaming\\nltk_data...\n",
      "[nltk_data]   Package wordnet is already up-to-date!\n"
     ]
    }
   ],
   "source": [
    "import os\n",
    "import sklearn\n",
    "import joblib\n",
    "from sklearn.feature_extraction.text import CountVectorizer\n",
    "import nltk\n",
    "nltk.download('punkt')\n",
    "nltk.download('stopwords')\n",
    "import re\n",
    "import nltk\n",
    "\n",
    "import pandas as pd\n",
    "import numpy as np\n",
    "\n",
    "from bs4 import BeautifulSoup\n",
    "from nltk.corpus import stopwords\n",
    "nltk.download('wordnet')\n",
    "\n",
    "\n",
    "from nltk import word_tokenize\n",
    "from nltk.sentiment.util import mark_negation\n",
    "from sklearn.pipeline import Pipeline\n",
    "from sklearn.svm import LinearSVC\n",
    "from nltk.tokenize.treebank import TreebankWordDetokenizer"
   ]
  },
  {
   "cell_type": "code",
   "execution_count": 2,
   "metadata": {},
   "outputs": [],
   "source": [
    "if __name__ == '__main__':\n",
    "\t# Get train data.\n",
    "\ttrain_data = pd.read_csv('SemEval2017-task4-dev.subtask-A.english.INPUT2.txt', sep=\"\\t\", header = None)"
   ]
  },
  {
   "cell_type": "code",
   "execution_count": 3,
   "metadata": {},
   "outputs": [
    {
     "data": {
      "text/html": [
       "<div>\n",
       "<style scoped>\n",
       "    .dataframe tbody tr th:only-of-type {\n",
       "        vertical-align: middle;\n",
       "    }\n",
       "\n",
       "    .dataframe tbody tr th {\n",
       "        vertical-align: top;\n",
       "    }\n",
       "\n",
       "    .dataframe thead th {\n",
       "        text-align: right;\n",
       "    }\n",
       "</style>\n",
       "<table border=\"1\" class=\"dataframe\">\n",
       "  <thead>\n",
       "    <tr style=\"text-align: right;\">\n",
       "      <th></th>\n",
       "      <th>id</th>\n",
       "      <th>sentiment</th>\n",
       "      <th>review</th>\n",
       "    </tr>\n",
       "  </thead>\n",
       "  <tbody>\n",
       "    <tr>\n",
       "      <th>0</th>\n",
       "      <td>619950566786113536</td>\n",
       "      <td>neutral</td>\n",
       "      <td>Picturehouse's, Pink Floyd's, 'Roger Waters: T...</td>\n",
       "    </tr>\n",
       "    <tr>\n",
       "      <th>1</th>\n",
       "      <td>619969366986235905</td>\n",
       "      <td>neutral</td>\n",
       "      <td>Order Go Set a Watchman in store or through ou...</td>\n",
       "    </tr>\n",
       "    <tr>\n",
       "      <th>2</th>\n",
       "      <td>619971047195045888</td>\n",
       "      <td>negative</td>\n",
       "      <td>If these runway renovations at the airport pre...</td>\n",
       "    </tr>\n",
       "    <tr>\n",
       "      <th>3</th>\n",
       "      <td>619974445185302528</td>\n",
       "      <td>neutral</td>\n",
       "      <td>If you could ask an onstage interview question...</td>\n",
       "    </tr>\n",
       "    <tr>\n",
       "      <th>4</th>\n",
       "      <td>619987808317407232</td>\n",
       "      <td>positive</td>\n",
       "      <td>A portion of book sales from our Harper Lee/Go...</td>\n",
       "    </tr>\n",
       "  </tbody>\n",
       "</table>\n",
       "</div>"
      ],
      "text/plain": [
       "                   id sentiment  \\\n",
       "0  619950566786113536   neutral   \n",
       "1  619969366986235905   neutral   \n",
       "2  619971047195045888  negative   \n",
       "3  619974445185302528   neutral   \n",
       "4  619987808317407232  positive   \n",
       "\n",
       "                                              review  \n",
       "0  Picturehouse's, Pink Floyd's, 'Roger Waters: T...  \n",
       "1  Order Go Set a Watchman in store or through ou...  \n",
       "2  If these runway renovations at the airport pre...  \n",
       "3  If you could ask an onstage interview question...  \n",
       "4  A portion of book sales from our Harper Lee/Go...  "
      ]
     },
     "execution_count": 3,
     "metadata": {},
     "output_type": "execute_result"
    }
   ],
   "source": [
    "train_data.columns = [\"id\", \"sentiment\", \"review\", \"time\"]\n",
    "train_data = train_data[[\"id\", \"sentiment\", \"review\"]]\n",
    "train_data.head()"
   ]
  },
  {
   "cell_type": "code",
   "execution_count": 4,
   "metadata": {},
   "outputs": [
    {
     "data": {
      "text/html": [
       "<div>\n",
       "<style scoped>\n",
       "    .dataframe tbody tr th:only-of-type {\n",
       "        vertical-align: middle;\n",
       "    }\n",
       "\n",
       "    .dataframe tbody tr th {\n",
       "        vertical-align: top;\n",
       "    }\n",
       "\n",
       "    .dataframe thead th {\n",
       "        text-align: right;\n",
       "    }\n",
       "</style>\n",
       "<table border=\"1\" class=\"dataframe\">\n",
       "  <thead>\n",
       "    <tr style=\"text-align: right;\">\n",
       "      <th></th>\n",
       "      <th>id</th>\n",
       "      <th>sentiment</th>\n",
       "      <th>review</th>\n",
       "    </tr>\n",
       "  </thead>\n",
       "  <tbody>\n",
       "    <tr>\n",
       "      <th>2</th>\n",
       "      <td>619971047195045888</td>\n",
       "      <td>negative</td>\n",
       "      <td>If these runway renovations at the airport pre...</td>\n",
       "    </tr>\n",
       "    <tr>\n",
       "      <th>4</th>\n",
       "      <td>619987808317407232</td>\n",
       "      <td>positive</td>\n",
       "      <td>A portion of book sales from our Harper Lee/Go...</td>\n",
       "    </tr>\n",
       "    <tr>\n",
       "      <th>5</th>\n",
       "      <td>619994586182619136</td>\n",
       "      <td>positive</td>\n",
       "      <td>Excited to read \"Go Set a Watchman\" on Tuesday...</td>\n",
       "    </tr>\n",
       "    <tr>\n",
       "      <th>6</th>\n",
       "      <td>619998879447162881</td>\n",
       "      <td>positive</td>\n",
       "      <td>Watching Miss USA tomorrow JUST to see @Travis...</td>\n",
       "    </tr>\n",
       "    <tr>\n",
       "      <th>8</th>\n",
       "      <td>620013074272137216</td>\n",
       "      <td>positive</td>\n",
       "      <td>Call for reservations for lunch or dinner tomo...</td>\n",
       "    </tr>\n",
       "  </tbody>\n",
       "</table>\n",
       "</div>"
      ],
      "text/plain": [
       "                   id sentiment  \\\n",
       "2  619971047195045888  negative   \n",
       "4  619987808317407232  positive   \n",
       "5  619994586182619136  positive   \n",
       "6  619998879447162881  positive   \n",
       "8  620013074272137216  positive   \n",
       "\n",
       "                                              review  \n",
       "2  If these runway renovations at the airport pre...  \n",
       "4  A portion of book sales from our Harper Lee/Go...  \n",
       "5  Excited to read \"Go Set a Watchman\" on Tuesday...  \n",
       "6  Watching Miss USA tomorrow JUST to see @Travis...  \n",
       "8  Call for reservations for lunch or dinner tomo...  "
      ]
     },
     "execution_count": 4,
     "metadata": {},
     "output_type": "execute_result"
    }
   ],
   "source": [
    "train_data = train_data[train_data[\"sentiment\"] != 'neutral']\n",
    "train_data.head()"
   ]
  },
  {
   "cell_type": "code",
   "execution_count": 5,
   "metadata": {},
   "outputs": [
    {
     "data": {
      "text/html": [
       "<div>\n",
       "<style scoped>\n",
       "    .dataframe tbody tr th:only-of-type {\n",
       "        vertical-align: middle;\n",
       "    }\n",
       "\n",
       "    .dataframe tbody tr th {\n",
       "        vertical-align: top;\n",
       "    }\n",
       "\n",
       "    .dataframe thead th {\n",
       "        text-align: right;\n",
       "    }\n",
       "</style>\n",
       "<table border=\"1\" class=\"dataframe\">\n",
       "  <thead>\n",
       "    <tr style=\"text-align: right;\">\n",
       "      <th></th>\n",
       "      <th>id</th>\n",
       "      <th>sentiment</th>\n",
       "      <th>review</th>\n",
       "    </tr>\n",
       "  </thead>\n",
       "  <tbody>\n",
       "    <tr>\n",
       "      <th>0</th>\n",
       "      <td>619971047195045888</td>\n",
       "      <td>negative</td>\n",
       "      <td>If these runway renovations at the airport pre...</td>\n",
       "    </tr>\n",
       "    <tr>\n",
       "      <th>1</th>\n",
       "      <td>619987808317407232</td>\n",
       "      <td>positive</td>\n",
       "      <td>A portion of book sales from our Harper Lee/Go...</td>\n",
       "    </tr>\n",
       "    <tr>\n",
       "      <th>2</th>\n",
       "      <td>619994586182619136</td>\n",
       "      <td>positive</td>\n",
       "      <td>Excited to read \"Go Set a Watchman\" on Tuesday...</td>\n",
       "    </tr>\n",
       "    <tr>\n",
       "      <th>3</th>\n",
       "      <td>619998879447162881</td>\n",
       "      <td>positive</td>\n",
       "      <td>Watching Miss USA tomorrow JUST to see @Travis...</td>\n",
       "    </tr>\n",
       "    <tr>\n",
       "      <th>4</th>\n",
       "      <td>620013074272137216</td>\n",
       "      <td>positive</td>\n",
       "      <td>Call for reservations for lunch or dinner tomo...</td>\n",
       "    </tr>\n",
       "  </tbody>\n",
       "</table>\n",
       "</div>"
      ],
      "text/plain": [
       "                   id sentiment  \\\n",
       "0  619971047195045888  negative   \n",
       "1  619987808317407232  positive   \n",
       "2  619994586182619136  positive   \n",
       "3  619998879447162881  positive   \n",
       "4  620013074272137216  positive   \n",
       "\n",
       "                                              review  \n",
       "0  If these runway renovations at the airport pre...  \n",
       "1  A portion of book sales from our Harper Lee/Go...  \n",
       "2  Excited to read \"Go Set a Watchman\" on Tuesday...  \n",
       "3  Watching Miss USA tomorrow JUST to see @Travis...  \n",
       "4  Call for reservations for lunch or dinner tomo...  "
      ]
     },
     "execution_count": 5,
     "metadata": {},
     "output_type": "execute_result"
    }
   ],
   "source": [
    "train_data = train_data.reset_index(drop=True)\n",
    "train_data.head()"
   ]
  },
  {
   "cell_type": "code",
   "execution_count": 6,
   "metadata": {},
   "outputs": [
    {
     "data": {
      "text/html": [
       "<div>\n",
       "<style scoped>\n",
       "    .dataframe tbody tr th:only-of-type {\n",
       "        vertical-align: middle;\n",
       "    }\n",
       "\n",
       "    .dataframe tbody tr th {\n",
       "        vertical-align: top;\n",
       "    }\n",
       "\n",
       "    .dataframe thead th {\n",
       "        text-align: right;\n",
       "    }\n",
       "</style>\n",
       "<table border=\"1\" class=\"dataframe\">\n",
       "  <thead>\n",
       "    <tr style=\"text-align: right;\">\n",
       "      <th></th>\n",
       "      <th>id</th>\n",
       "      <th>sentiment</th>\n",
       "      <th>review</th>\n",
       "    </tr>\n",
       "  </thead>\n",
       "  <tbody>\n",
       "    <tr>\n",
       "      <th>0</th>\n",
       "      <td>619971047195045888</td>\n",
       "      <td>False</td>\n",
       "      <td>If these runway renovations at the airport pre...</td>\n",
       "    </tr>\n",
       "    <tr>\n",
       "      <th>1</th>\n",
       "      <td>619987808317407232</td>\n",
       "      <td>True</td>\n",
       "      <td>A portion of book sales from our Harper Lee/Go...</td>\n",
       "    </tr>\n",
       "    <tr>\n",
       "      <th>2</th>\n",
       "      <td>619994586182619136</td>\n",
       "      <td>True</td>\n",
       "      <td>Excited to read \"Go Set a Watchman\" on Tuesday...</td>\n",
       "    </tr>\n",
       "    <tr>\n",
       "      <th>3</th>\n",
       "      <td>619998879447162881</td>\n",
       "      <td>True</td>\n",
       "      <td>Watching Miss USA tomorrow JUST to see @Travis...</td>\n",
       "    </tr>\n",
       "    <tr>\n",
       "      <th>4</th>\n",
       "      <td>620013074272137216</td>\n",
       "      <td>True</td>\n",
       "      <td>Call for reservations for lunch or dinner tomo...</td>\n",
       "    </tr>\n",
       "  </tbody>\n",
       "</table>\n",
       "</div>"
      ],
      "text/plain": [
       "                   id  sentiment  \\\n",
       "0  619971047195045888      False   \n",
       "1  619987808317407232       True   \n",
       "2  619994586182619136       True   \n",
       "3  619998879447162881       True   \n",
       "4  620013074272137216       True   \n",
       "\n",
       "                                              review  \n",
       "0  If these runway renovations at the airport pre...  \n",
       "1  A portion of book sales from our Harper Lee/Go...  \n",
       "2  Excited to read \"Go Set a Watchman\" on Tuesday...  \n",
       "3  Watching Miss USA tomorrow JUST to see @Travis...  \n",
       "4  Call for reservations for lunch or dinner tomo...  "
      ]
     },
     "execution_count": 6,
     "metadata": {},
     "output_type": "execute_result"
    }
   ],
   "source": [
    "train_data[\"sentiment\"] = (train_data[\"sentiment\"] == 'positive')\n",
    "train_data.head()"
   ]
  },
  {
   "cell_type": "code",
   "execution_count": 7,
   "metadata": {},
   "outputs": [],
   "source": [
    "import string\n",
    "import re\n",
    "import nltk\n",
    "\n",
    "stopwords=nltk.corpus.stopwords.words('english')\n",
    "\n",
    "\n"
   ]
  },
  {
   "cell_type": "code",
   "execution_count": 8,
   "metadata": {},
   "outputs": [],
   "source": [
    "def remove_punctuation(text):\n",
    "    txt_nopunct= \"\".join([c for c in text if c not in string.punctuation])\n",
    "    return txt_nopunct\n",
    "train_data['no punct']=train_data['review'].apply(lambda x:remove_punctuation(x))"
   ]
  },
  {
   "cell_type": "code",
   "execution_count": 9,
   "metadata": {},
   "outputs": [],
   "source": [
    "def tokenize(text):\n",
    "    tokens=re.split('\\W+',text)\n",
    "    return tokens\n",
    "train_data['token_text']=train_data['no punct'].apply(lambda x:tokenize(x))\n"
   ]
  },
  {
   "cell_type": "code",
   "execution_count": 10,
   "metadata": {},
   "outputs": [],
   "source": [
    "def remove_stopwords(tokenized_text):\n",
    "    clean_text=[word for word in tokenized_text if word not in stopwords]\n",
    "    return clean_text;    \n",
    "train_data['clean_text']=train_data['token_text'].apply(lambda x:remove_stopwords(x))\n"
   ]
  },
  {
   "cell_type": "code",
   "execution_count": 11,
   "metadata": {},
   "outputs": [],
   "source": [
    "import nltk\n",
    "\n",
    "wn=nltk.WordNetLemmatizer()\n",
    "def lemmatization(text):\n",
    "    text=[wn.lemmatize(word) for word in text]\n",
    "    return text\n",
    "train_data['lemmatized']=train_data['clean_text'].apply(lambda x:lemmatization(x))\n"
   ]
  },
  {
   "cell_type": "code",
   "execution_count": 12,
   "metadata": {},
   "outputs": [],
   "source": [
    "def final(review_text):\n",
    "    review_text = TreebankWordDetokenizer().detokenize(review_text)\n",
    "    return review_text\n",
    "train_data['final']=train_data['lemmatized'].apply(lambda x:final(x))\n"
   ]
  },
  {
   "cell_type": "code",
   "execution_count": 13,
   "metadata": {},
   "outputs": [
    {
     "data": {
      "text/plain": [
       "0    False\n",
       "1     True\n",
       "2     True\n",
       "3     True\n",
       "4     True\n",
       "Name: sentiment, dtype: bool"
      ]
     },
     "execution_count": 13,
     "metadata": {},
     "output_type": "execute_result"
    }
   ],
   "source": [
    "X = train_data[\"final\"]\n",
    "y = train_data[\"sentiment\"]\n",
    "\n",
    "y.head()"
   ]
  },
  {
   "cell_type": "code",
   "execution_count": 14,
   "metadata": {},
   "outputs": [
    {
     "data": {
      "text/plain": [
       "0    If runway renovation airport prevent seeing Ta...\n",
       "1    A portion book sale Harper LeeGo Set Watchman ...\n",
       "2    Excited read Go Set Watchman Tuesday But possi...\n",
       "3    Watching Miss USA tomorrow JUST see TravisGarl...\n",
       "4    Call reservation lunch dinner tomorrow yep Sun...\n",
       "Name: final, dtype: object"
      ]
     },
     "execution_count": 14,
     "metadata": {},
     "output_type": "execute_result"
    }
   ],
   "source": [
    "X.head()"
   ]
  },
  {
   "cell_type": "code",
   "execution_count": 15,
   "metadata": {},
   "outputs": [],
   "source": [
    "from sklearn.model_selection import train_test_split"
   ]
  },
  {
   "cell_type": "code",
   "execution_count": 16,
   "metadata": {},
   "outputs": [],
   "source": [
    "X_train_setup, X_test_setup, y_train, y_test = train_test_split(X, y, test_size=0.2)\n",
    "X_train_setup = X_train_setup.reset_index(drop=True)\n",
    "X_test_setup = X_test_setup.reset_index(drop=True)\n",
    "y_train = y_train.reset_index(drop=True)\n",
    "y_test = y_test.reset_index(drop=True)"
   ]
  },
  {
   "cell_type": "code",
   "execution_count": 17,
   "metadata": {},
   "outputs": [
    {
     "data": {
      "text/plain": [
       "0    Thursday National Hot Dog Day JE serving hot d...\n",
       "1    AMY SCHUMER TICKETS STILL AVAILABLE SUNDAYs SH...\n",
       "2    Thursday night GOPDebate highestrated primary ...\n",
       "3    Sunday menu httptcoSYltFtD4wJ includes Prime R...\n",
       "4    Its good see man David Wright back lineup Time...\n",
       "Name: final, dtype: object"
      ]
     },
     "execution_count": 17,
     "metadata": {},
     "output_type": "execute_result"
    }
   ],
   "source": [
    "X_train_setup.head()"
   ]
  },
  {
   "cell_type": "code",
   "execution_count": 18,
   "metadata": {},
   "outputs": [
    {
     "data": {
      "text/plain": [
       "0    True\n",
       "1    True\n",
       "2    True\n",
       "3    True\n",
       "4    True\n",
       "Name: sentiment, dtype: bool"
      ]
     },
     "execution_count": 18,
     "metadata": {},
     "output_type": "execute_result"
    }
   ],
   "source": [
    "y_train.head()"
   ]
  },
  {
   "cell_type": "code",
   "execution_count": 19,
   "metadata": {},
   "outputs": [],
   "source": [
    "def process(X_data_setup, X_data):\n",
    "    for index in range(0, len(X_data_setup)):\n",
    "            review = X_data_setup[index]\n",
    "\n",
    "            # Remove HTML tags.\n",
    "            review_text = BeautifulSoup(review).get_text()\n",
    "            # Convert all letters to lowercase.\n",
    "            review_text = review_text.lower() \n",
    "            # Tokenize review.\n",
    "            review_text = word_tokenize(review_text) \n",
    "            # Mark negations.\n",
    "            review_text = mark_negation(review_text) \n",
    "            # Detokenize review.\n",
    "            review_text = TreebankWordDetokenizer().detokenize(review_text)\n",
    "            # Remove all non-letters.\n",
    "            review_text = re.sub(\"[^a-zA-Z]\",\" \", review_text)\n",
    "            X_data.append(review_text)\n",
    "\n",
    "X_train = []\n",
    "process(X_train_setup, X_train)\n",
    "X_test=[]\n",
    "process(X_test_setup, X_test)"
   ]
  },
  {
   "cell_type": "code",
   "execution_count": 20,
   "metadata": {},
   "outputs": [
    {
     "data": {
      "text/plain": [
       "0       Sharknado may well flat dumbest thing ever occ...\n",
       "1       If Prince Georges birthday making news morning...\n",
       "2       SuccessShawn Hey Shawn nice seeing week bud Ha...\n",
       "3       Picking car today Big Brother tonight season p...\n",
       "4       8 yr since Harry Potter Deathly Hallows came P...\n",
       "                              ...                        \n",
       "2053    Wow walk win CubsKris Bryant HR 2 out bottom 9...\n",
       "2054    Nieces play Taylor SwiftI submit Bad Blood may...\n",
       "2055    Only best born July 22nd Oscar de la Renta amp...\n",
       "2056    Sadie listening sam smith rn even though shes ...\n",
       "2057    im excited cry frank ocean way school tomorrow...\n",
       "Name: final, Length: 2058, dtype: object"
      ]
     },
     "execution_count": 20,
     "metadata": {},
     "output_type": "execute_result"
    }
   ],
   "source": [
    "X_test_setup"
   ]
  },
  {
   "cell_type": "code",
   "execution_count": 21,
   "metadata": {},
   "outputs": [
    {
     "data": {
      "text/plain": [
       "0       False\n",
       "1        True\n",
       "2        True\n",
       "3        True\n",
       "4        True\n",
       "        ...  \n",
       "2053     True\n",
       "2054    False\n",
       "2055     True\n",
       "2056     True\n",
       "2057     True\n",
       "Name: sentiment, Length: 2058, dtype: bool"
      ]
     },
     "execution_count": 21,
     "metadata": {},
     "output_type": "execute_result"
    }
   ],
   "source": [
    "y_test"
   ]
  },
  {
   "cell_type": "code",
   "execution_count": null,
   "metadata": {},
   "outputs": [],
   "source": []
  },
  {
   "cell_type": "code",
   "execution_count": null,
   "metadata": {},
   "outputs": [],
   "source": []
  },
  {
   "cell_type": "code",
   "execution_count": 22,
   "metadata": {
    "scrolled": true
   },
   "outputs": [
    {
     "data": {
      "text/html": [
       "<div>\n",
       "<style scoped>\n",
       "    .dataframe tbody tr th:only-of-type {\n",
       "        vertical-align: middle;\n",
       "    }\n",
       "\n",
       "    .dataframe tbody tr th {\n",
       "        vertical-align: top;\n",
       "    }\n",
       "\n",
       "    .dataframe thead th {\n",
       "        text-align: right;\n",
       "    }\n",
       "</style>\n",
       "<table border=\"1\" class=\"dataframe\">\n",
       "  <thead>\n",
       "    <tr style=\"text-align: right;\">\n",
       "      <th></th>\n",
       "      <th>id</th>\n",
       "      <th>sentiment</th>\n",
       "      <th>review</th>\n",
       "      <th>no punct</th>\n",
       "      <th>token_text</th>\n",
       "      <th>clean_text</th>\n",
       "      <th>lemmatized</th>\n",
       "      <th>final</th>\n",
       "    </tr>\n",
       "  </thead>\n",
       "  <tbody>\n",
       "    <tr>\n",
       "      <th>0</th>\n",
       "      <td>619971047195045888</td>\n",
       "      <td>False</td>\n",
       "      <td>If these runway renovations at the airport pre...</td>\n",
       "      <td>If these runway renovations at the airport pre...</td>\n",
       "      <td>[If, these, runway, renovations, at, the, airp...</td>\n",
       "      <td>[If, runway, renovations, airport, prevent, se...</td>\n",
       "      <td>[If, runway, renovation, airport, prevent, see...</td>\n",
       "      <td>If runway renovation airport prevent seeing Ta...</td>\n",
       "    </tr>\n",
       "    <tr>\n",
       "      <th>1</th>\n",
       "      <td>619987808317407232</td>\n",
       "      <td>True</td>\n",
       "      <td>A portion of book sales from our Harper Lee/Go...</td>\n",
       "      <td>A portion of book sales from our Harper LeeGo ...</td>\n",
       "      <td>[A, portion, of, book, sales, from, our, Harpe...</td>\n",
       "      <td>[A, portion, book, sales, Harper, LeeGo, Set, ...</td>\n",
       "      <td>[A, portion, book, sale, Harper, LeeGo, Set, W...</td>\n",
       "      <td>A portion book sale Harper LeeGo Set Watchman ...</td>\n",
       "    </tr>\n",
       "    <tr>\n",
       "      <th>2</th>\n",
       "      <td>619994586182619136</td>\n",
       "      <td>True</td>\n",
       "      <td>Excited to read \"Go Set a Watchman\" on Tuesday...</td>\n",
       "      <td>Excited to read Go Set a Watchman on Tuesday  ...</td>\n",
       "      <td>[Excited, to, read, Go, Set, a, Watchman, on, ...</td>\n",
       "      <td>[Excited, read, Go, Set, Watchman, Tuesday, Bu...</td>\n",
       "      <td>[Excited, read, Go, Set, Watchman, Tuesday, Bu...</td>\n",
       "      <td>Excited read Go Set Watchman Tuesday But possi...</td>\n",
       "    </tr>\n",
       "    <tr>\n",
       "      <th>3</th>\n",
       "      <td>619998879447162881</td>\n",
       "      <td>True</td>\n",
       "      <td>Watching Miss USA tomorrow JUST to see @Travis...</td>\n",
       "      <td>Watching Miss USA tomorrow JUST to see TravisG...</td>\n",
       "      <td>[Watching, Miss, USA, tomorrow, JUST, to, see,...</td>\n",
       "      <td>[Watching, Miss, USA, tomorrow, JUST, see, Tra...</td>\n",
       "      <td>[Watching, Miss, USA, tomorrow, JUST, see, Tra...</td>\n",
       "      <td>Watching Miss USA tomorrow JUST see TravisGarl...</td>\n",
       "    </tr>\n",
       "    <tr>\n",
       "      <th>4</th>\n",
       "      <td>620013074272137216</td>\n",
       "      <td>True</td>\n",
       "      <td>Call for reservations for lunch or dinner tomo...</td>\n",
       "      <td>Call for reservations for lunch or dinner tomo...</td>\n",
       "      <td>[Call, for, reservations, for, lunch, or, dinn...</td>\n",
       "      <td>[Call, reservations, lunch, dinner, tomorrow, ...</td>\n",
       "      <td>[Call, reservation, lunch, dinner, tomorrow, y...</td>\n",
       "      <td>Call reservation lunch dinner tomorrow yep Sun...</td>\n",
       "    </tr>\n",
       "  </tbody>\n",
       "</table>\n",
       "</div>"
      ],
      "text/plain": [
       "                   id  sentiment  \\\n",
       "0  619971047195045888      False   \n",
       "1  619987808317407232       True   \n",
       "2  619994586182619136       True   \n",
       "3  619998879447162881       True   \n",
       "4  620013074272137216       True   \n",
       "\n",
       "                                              review  \\\n",
       "0  If these runway renovations at the airport pre...   \n",
       "1  A portion of book sales from our Harper Lee/Go...   \n",
       "2  Excited to read \"Go Set a Watchman\" on Tuesday...   \n",
       "3  Watching Miss USA tomorrow JUST to see @Travis...   \n",
       "4  Call for reservations for lunch or dinner tomo...   \n",
       "\n",
       "                                            no punct  \\\n",
       "0  If these runway renovations at the airport pre...   \n",
       "1  A portion of book sales from our Harper LeeGo ...   \n",
       "2  Excited to read Go Set a Watchman on Tuesday  ...   \n",
       "3  Watching Miss USA tomorrow JUST to see TravisG...   \n",
       "4  Call for reservations for lunch or dinner tomo...   \n",
       "\n",
       "                                          token_text  \\\n",
       "0  [If, these, runway, renovations, at, the, airp...   \n",
       "1  [A, portion, of, book, sales, from, our, Harpe...   \n",
       "2  [Excited, to, read, Go, Set, a, Watchman, on, ...   \n",
       "3  [Watching, Miss, USA, tomorrow, JUST, to, see,...   \n",
       "4  [Call, for, reservations, for, lunch, or, dinn...   \n",
       "\n",
       "                                          clean_text  \\\n",
       "0  [If, runway, renovations, airport, prevent, se...   \n",
       "1  [A, portion, book, sales, Harper, LeeGo, Set, ...   \n",
       "2  [Excited, read, Go, Set, Watchman, Tuesday, Bu...   \n",
       "3  [Watching, Miss, USA, tomorrow, JUST, see, Tra...   \n",
       "4  [Call, reservations, lunch, dinner, tomorrow, ...   \n",
       "\n",
       "                                          lemmatized  \\\n",
       "0  [If, runway, renovation, airport, prevent, see...   \n",
       "1  [A, portion, book, sale, Harper, LeeGo, Set, W...   \n",
       "2  [Excited, read, Go, Set, Watchman, Tuesday, Bu...   \n",
       "3  [Watching, Miss, USA, tomorrow, JUST, see, Tra...   \n",
       "4  [Call, reservation, lunch, dinner, tomorrow, y...   \n",
       "\n",
       "                                               final  \n",
       "0  If runway renovation airport prevent seeing Ta...  \n",
       "1  A portion book sale Harper LeeGo Set Watchman ...  \n",
       "2  Excited read Go Set Watchman Tuesday But possi...  \n",
       "3  Watching Miss USA tomorrow JUST see TravisGarl...  \n",
       "4  Call reservation lunch dinner tomorrow yep Sun...  "
      ]
     },
     "execution_count": 22,
     "metadata": {},
     "output_type": "execute_result"
    }
   ],
   "source": [
    "train_data.head()"
   ]
  },
  {
   "cell_type": "markdown",
   "metadata": {},
   "source": [
    "# RANDOM FOREST CLASSIFIER"
   ]
  },
  {
   "cell_type": "code",
   "execution_count": 23,
   "metadata": {},
   "outputs": [
    {
     "data": {
      "text/plain": [
       "Pipeline(steps=[('vectorizer', CountVectorizer(ngram_range=(1, 2))),\n",
       "                ('classifier', RandomForestClassifier())])"
      ]
     },
     "execution_count": 23,
     "metadata": {},
     "output_type": "execute_result"
    }
   ],
   "source": [
    "# Creating Classifier using unigrams and bigrams.\n",
    "# Altered bigram classifier.\n",
    "from sklearn.ensemble import RandomForestClassifier\n",
    "\n",
    "random_forest_bigram_classifier = Pipeline([('vectorizer', CountVectorizer(analyzer = \"word\",  ngram_range = (1, 2),  tokenizer = None, preprocessor = None, stop_words = None)),('classifier', RandomForestClassifier())])\n",
    "\n",
    "random_forest_bigram_classifier.fit(X_train, y_train)"
   ]
  },
  {
   "cell_type": "code",
   "execution_count": 24,
   "metadata": {},
   "outputs": [
    {
     "name": "stdout",
     "output_type": "stream",
     "text": [
      "Saving Random Forest.\n"
     ]
    },
    {
     "data": {
      "text/plain": [
       "['SemEvalModelRandomForest.sav']"
      ]
     },
     "execution_count": 24,
     "metadata": {},
     "output_type": "execute_result"
    }
   ],
   "source": [
    "# Save model.\n",
    "print(\"Saving Random Forest.\")\n",
    "filename = 'SemEvalModelRandomForest.sav'\n",
    "#import pickle\n",
    "joblib.dump(random_forest_bigram_classifier, filename)"
   ]
  },
  {
   "cell_type": "code",
   "execution_count": 25,
   "metadata": {},
   "outputs": [
    {
     "name": "stdout",
     "output_type": "stream",
     "text": [
      "Random Forest Classifier loaded.\n"
     ]
    }
   ],
   "source": [
    "# Loading classifier.\n",
    "# Continue from here if model is already saved.\n",
    "filename = 'SemEvalModelRandomForest.sav'\n",
    "loaded_random_forest_bigram_classifier = joblib.load(filename)\n",
    "print(\"Random Forest Classifier loaded.\")"
   ]
  },
  {
   "cell_type": "code",
   "execution_count": 26,
   "metadata": {},
   "outputs": [
    {
     "name": "stdout",
     "output_type": "stream",
     "text": [
      "The train precision of the Random Forest Classifier model is 100.0\n"
     ]
    }
   ],
   "source": [
    "# For Random Forest.\n",
    "\n",
    "y_train_pred = loaded_random_forest_bigram_classifier.predict(X_train)\n",
    "# Create confusion matrix for X_train.\n",
    "from sklearn.metrics import confusion_matrix\n",
    "\n",
    "cm_train = confusion_matrix(y_train, y_train_pred)\n",
    "# Find precision of the model.\n",
    "total_train, correct_train = 0, 0\n",
    "for i in range(0, len(cm_train)):\n",
    "    for j in range(0, len(cm_train)):\n",
    "        total_train += cm_train[i][j]\n",
    "        if i == j:\n",
    "            correct_train += cm_train[i][j]\n",
    "\n",
    "precision_train = correct_train / total_train * 100.0\n",
    "print(\"The train precision of the Random Forest Classifier model is \" + str(precision_train))"
   ]
  },
  {
   "cell_type": "code",
   "execution_count": 27,
   "metadata": {},
   "outputs": [
    {
     "name": "stdout",
     "output_type": "stream",
     "text": [
      "Predicting test set data.\n"
     ]
    }
   ],
   "source": [
    "print(\"Predicting test set data.\")"
   ]
  },
  {
   "cell_type": "code",
   "execution_count": 28,
   "metadata": {},
   "outputs": [
    {
     "name": "stdout",
     "output_type": "stream",
     "text": [
      "The test precision of the Random Forest Classifier model is 81.97278911564626\n"
     ]
    }
   ],
   "source": [
    "y_pred=random_forest_bigram_classifier.predict(X_test)\n",
    "from sklearn.metrics import confusion_matrix\n",
    "\n",
    "cm_train1 = confusion_matrix(y_test, y_pred)\n",
    "# Find precision of the model.\n",
    "total_train, correct_train = 0, 0\n",
    "for i in range(0, len(cm_train1)):\n",
    "    for j in range(0, len(cm_train1)):\n",
    "        total_train += cm_train1[i][j]\n",
    "        if i == j:\n",
    "            correct_train += cm_train1[i][j]\n",
    "\n",
    "precision_train = correct_train / total_train * 100.0\n",
    "print(\"The test precision of the Random Forest Classifier model is \" + str(precision_train))"
   ]
  },
  {
   "cell_type": "markdown",
   "metadata": {},
   "source": [
    "# NAIVE BAYES"
   ]
  },
  {
   "cell_type": "code",
   "execution_count": 29,
   "metadata": {},
   "outputs": [
    {
     "name": "stdout",
     "output_type": "stream",
     "text": [
      "Saving Naive Bayes model.\n",
      "Naive Bayes Classifier loaded.\n"
     ]
    }
   ],
   "source": [
    "from sklearn.naive_bayes import MultinomialNB\n",
    "\n",
    "naive_bayes_bigram_classifier = Pipeline([('vectorizer', CountVectorizer(analyzer = \"word\",  ngram_range = (1, 2),  tokenizer = None,  preprocessor = None,  stop_words = None)),('classifier', MultinomialNB())])\n",
    "\n",
    "naive_bayes_bigram_classifier.fit(X_train, y_train)\n",
    "\n",
    "# Save model.\n",
    "print(\"Saving Naive Bayes model.\")\n",
    "filename = 'SemEvalModelNaiveBayes.sav'\n",
    "#import pickle\n",
    "joblib.dump(naive_bayes_bigram_classifier, filename)\n",
    "\n",
    "# Loading classifier.\n",
    "# Continue from here if model is already saved.\n",
    "filename = 'SemEvalModelNaiveBayes.sav'\n",
    "loaded_naive_bayes_bigram_classifier = joblib.load(filename)\n",
    "print(\"Naive Bayes Classifier loaded.\")"
   ]
  },
  {
   "cell_type": "code",
   "execution_count": 30,
   "metadata": {},
   "outputs": [
    {
     "name": "stdout",
     "output_type": "stream",
     "text": [
      "The train precision of the Naive Bayes model is 98.00777453838678\n"
     ]
    }
   ],
   "source": [
    "# For Naive Bayes.\n",
    "\n",
    "y_train_pred1 = loaded_naive_bayes_bigram_classifier.predict(X_train)\n",
    "# Create confusion matrix for X_train.\n",
    "from sklearn.metrics import confusion_matrix\n",
    "\n",
    "cm_train2 = confusion_matrix(y_train, y_train_pred1)\n",
    "# Find precision of the model.\n",
    "total_train, correct_train = 0, 0\n",
    "for i in range(0, len(cm_train2)):\n",
    "    for j in range(0, len(cm_train2)):\n",
    "        total_train += cm_train2[i][j]\n",
    "        if i == j:\n",
    "            correct_train += cm_train2[i][j]\n",
    "\n",
    "precision_train = correct_train / total_train * 100.0\n",
    "print(\"The train precision of the Naive Bayes model is \" + str(precision_train))"
   ]
  },
  {
   "cell_type": "code",
   "execution_count": 31,
   "metadata": {},
   "outputs": [
    {
     "name": "stdout",
     "output_type": "stream",
     "text": [
      "Predicting test set data.\n"
     ]
    }
   ],
   "source": [
    "print(\"Predicting test set data.\")"
   ]
  },
  {
   "cell_type": "code",
   "execution_count": 32,
   "metadata": {},
   "outputs": [
    {
     "name": "stdout",
     "output_type": "stream",
     "text": [
      "The test precision of the Naive Bayes Classifier model is 84.40233236151603\n"
     ]
    }
   ],
   "source": [
    "y_pred1=naive_bayes_bigram_classifier.predict(X_test)\n",
    "from sklearn.metrics import confusion_matrix\n",
    "\n",
    "cm_train3 = confusion_matrix(y_test, y_pred1)\n",
    "# Find precision of the model.\n",
    "total_train, correct_train = 0, 0\n",
    "for i in range(0, len(cm_train3)):\n",
    "    for j in range(0, len(cm_train3)):\n",
    "        total_train += cm_train3[i][j]\n",
    "        if i == j:\n",
    "            correct_train += cm_train3[i][j]\n",
    "\n",
    "precision_train = correct_train / total_train * 100.0\n",
    "print(\"The test precision of the Naive Bayes Classifier model is \" + str(precision_train))"
   ]
  },
  {
   "cell_type": "code",
   "execution_count": 33,
   "metadata": {},
   "outputs": [
    {
     "name": "stdout",
     "output_type": "stream",
     "text": [
      "The test precision of the Naive Bayes Classifier model is 84.40233236151603\n"
     ]
    }
   ],
   "source": [
    "y_pred1=naive_bayes_bigram_classifier.predict(X_test)\n",
    "from sklearn.metrics import confusion_matrix\n",
    "\n",
    "cm_train3 = confusion_matrix(y_test, y_pred1)\n",
    "# Find precision of the model.\n",
    "total_train, correct_train = 0, 0\n",
    "for i in range(0, len(cm_train3)):\n",
    "    for j in range(0, len(cm_train3)):\n",
    "        total_train += cm_train3[i][j]\n",
    "        if i == j:\n",
    "            correct_train += cm_train3[i][j]\n",
    "\n",
    "precision_train = correct_train / total_train * 100.0\n",
    "print(\"The test precision of the Naive Bayes Classifier model is \" + str(precision_train))"
   ]
  },
  {
   "cell_type": "markdown",
   "metadata": {},
   "source": [
    "# SVM CLASSIFIER"
   ]
  },
  {
   "cell_type": "code",
   "execution_count": 34,
   "metadata": {},
   "outputs": [
    {
     "name": "stdout",
     "output_type": "stream",
     "text": [
      "Saving model.\n",
      "SVC Classifier loaded.\n"
     ]
    }
   ],
   "source": [
    "bigram_classifier = Pipeline([('vectorizer', CountVectorizer(analyzer = \"word\",  ngram_range = (1, 2),  tokenizer = None,  preprocessor = None,  stop_words = None)),('classifier', LinearSVC())])\n",
    "\n",
    "bigram_classifier.fit(X_train, y_train)\n",
    "\n",
    "# Save model.\n",
    "print(\"Saving model.\")\n",
    "filename = 'SemEvalModel.sav'\n",
    "#import pickle\n",
    "joblib.dump(bigram_classifier, filename)\n",
    "\n",
    "# Loading classifier.\n",
    "# Continue from here if model is already saved.\n",
    "filename = 'SemEvalModel.sav'\n",
    "loaded_bigram_classifier = joblib.load(filename)\n",
    "print(\"SVC Classifier loaded.\")"
   ]
  },
  {
   "cell_type": "code",
   "execution_count": 35,
   "metadata": {},
   "outputs": [
    {
     "name": "stdout",
     "output_type": "stream",
     "text": [
      "The train precision of the SVM model is 100.0\n"
     ]
    }
   ],
   "source": [
    "# SVM\n",
    "\n",
    "y_train_pred2 = bigram_classifier.predict(X_train)\n",
    "# Create confusion matrix for X_train.\n",
    "from sklearn.metrics import confusion_matrix\n",
    "\n",
    "cm_train4 = confusion_matrix(y_train, y_train_pred2)\n",
    "# Find precision of the model.\n",
    "total_train, correct_train = 0, 0\n",
    "for i in range(0, len(cm_train4)):\n",
    "    for j in range(0, len(cm_train4)):\n",
    "        total_train += cm_train4[i][j]\n",
    "        if i == j:\n",
    "            correct_train += cm_train4[i][j]\n",
    "\n",
    "precision_train = correct_train / total_train * 100.0\n",
    "print(\"The train precision of the SVM model is \" + str(precision_train))"
   ]
  },
  {
   "cell_type": "code",
   "execution_count": 36,
   "metadata": {},
   "outputs": [
    {
     "name": "stdout",
     "output_type": "stream",
     "text": [
      "Predicting test set data.\n"
     ]
    }
   ],
   "source": [
    "print(\"Predicting test set data.\")"
   ]
  },
  {
   "cell_type": "code",
   "execution_count": 37,
   "metadata": {},
   "outputs": [
    {
     "name": "stdout",
     "output_type": "stream",
     "text": [
      "The test precision of the SVM Classifier model is 86.54033041788144\n"
     ]
    }
   ],
   "source": [
    "y_pred2=bigram_classifier.predict(X_test)\n",
    "from sklearn.metrics import confusion_matrix\n",
    "\n",
    "cm_train5 = confusion_matrix(y_test, y_pred2)\n",
    "# Find precision of the model.\n",
    "total_train, correct_train = 0, 0\n",
    "for i in range(0, len(cm_train5)):\n",
    "    for j in range(0, len(cm_train5)):\n",
    "        total_train += cm_train5[i][j]\n",
    "        if i == j:\n",
    "            correct_train += cm_train5[i][j]\n",
    "\n",
    "precision_train = correct_train / total_train * 100.0\n",
    "print(\"The test precision of the SVM Classifier model is \" + str(precision_train))"
   ]
  },
  {
   "cell_type": "code",
   "execution_count": null,
   "metadata": {},
   "outputs": [],
   "source": [
    "\t# GUI (Run from here to only run the user interface for a trained model)\n",
    "\n",
    "\tfrom tkinter import *\n",
    "\n",
    "\troot = Tk()\n",
    "\troot.title(\"Sentiment Predictor\")\n",
    "\n",
    "\treviewPrompt = Label(text = \"Please enter your movie review below : \")\n",
    "\treviewPrompt.pack(side = TOP)\n",
    "\treviewRaw = Entry(root, width = 50)\n",
    "\treviewRaw.pack(side = TOP, padx = 10, pady = 10)\n",
    "\n",
    "\tdef getInput():\n",
    "\t\ttextValue = reviewRaw.get()\n",
    "\t\treturn textValue\n",
    "\n",
    "\tdef findSentiment():\n",
    "\n",
    "\t\t# Get unclean review.\n",
    "\t\tunclean_review = getInput()\n",
    "\t\tprint(unclean_review)\n",
    "\n",
    "\t\t# Predict sentiment.\n",
    "\t\tdummy_array, dummy_array_clean = [], []\n",
    "\t\tdummy_array.append(unclean_review)\n",
    "\t\tprocess(dummy_array, dummy_array_clean)\n",
    "\t\tprint(dummy_array_clean[0])\n",
    "\n",
    "\t\tmessage = \"\"\n",
    "\n",
    "\t\t# SVC.\n",
    "\t\tmessage += \"Support Vector : \"\n",
    "\t\tprediction_svc = loaded_bigram_classifier.predict(dummy_array_clean)\n",
    "\t\tprediction_svc = prediction_svc[0]\n",
    "\n",
    "\t\tprint(prediction_svc)\n",
    "\t\tif prediction_svc == 1:\n",
    "\t\t\tprint(\"Positive.\")\n",
    "\t\t\tmessage += \"POSITIVE\"\n",
    "\t\telse:\n",
    "\t\t\tprint(\"Negative.\")\n",
    "\t\t\tmessage += \"NEGATIVE\"\n",
    "\n",
    "\t\t# Random Forest.\n",
    "\t\tmessage += \"\\nRandom Forest : \"\n",
    "\t\tprediction_svc = loaded_random_forest_bigram_classifier.predict(dummy_array_clean)\n",
    "\t\tprediction_svc = prediction_svc[0]\n",
    "\n",
    "\t\tprint(prediction_svc)\n",
    "\t\tif prediction_svc == 1:\n",
    "\t\t\tprint(\"Positive.\")\n",
    "\t\t\tmessage += \"POSITIVE\"\n",
    "\t\telse:\n",
    "\t\t\tprint(\"Negative.\")\n",
    "\t\t\tmessage += \"NEGATIVE\"\n",
    "\n",
    "\t\t# Naive Bayes.\n",
    "\t\tmessage += \"\\nNaive Bayes : \"\n",
    "\t\tprediction_svc = loaded_naive_bayes_bigram_classifier.predict(dummy_array_clean)\n",
    "\t\tprediction_svc = prediction_svc[0]\n",
    "\n",
    "\t\tprint(prediction_svc)\n",
    "\t\tif prediction_svc == 1:\n",
    "\t\t\tprint(\"Positive.\")\n",
    "\t\t\tmessage += \"POSITIVE\"\n",
    "\t\telse:\n",
    "\t\t\tprint(\"Negative.\")\n",
    "\t\t\tmessage += \"NEGATIVE\"\n",
    "\n",
    "\t\tmessagebox.showinfo(\"Predicted Polarity\", message)\n",
    "\n",
    "\n",
    "\t#testMessage = Message(text = \"Paad\")\n",
    "\t#testMessage.config(bg = 'purple', font = ('courier', 12))\n",
    "\n",
    "\tsenti = Button(root, text = \"Find polarity.\", command = findSentiment, bg = 'yellow')\n",
    "\tsenti.pack()\n",
    "\n",
    "\troot.mainloop()\n"
   ]
  },
  {
   "cell_type": "code",
   "execution_count": null,
   "metadata": {},
   "outputs": [],
   "source": []
  }
 ],
 "metadata": {
  "kernelspec": {
   "display_name": "Python 3",
   "language": "python",
   "name": "python3"
  },
  "language_info": {
   "codemirror_mode": {
    "name": "ipython",
    "version": 3
   },
   "file_extension": ".py",
   "mimetype": "text/x-python",
   "name": "python",
   "nbconvert_exporter": "python",
   "pygments_lexer": "ipython3",
   "version": "3.8.5"
  }
 },
 "nbformat": 4,
 "nbformat_minor": 4
}
